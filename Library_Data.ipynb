{
  "nbformat": 4,
  "nbformat_minor": 0,
  "metadata": {
    "colab": {
      "name": "Library_Data.ipynb",
      "provenance": []
    },
    "kernelspec": {
      "name": "python3",
      "display_name": "Python 3"
    }
  },
  "cells": [
    {
      "cell_type": "markdown",
      "metadata": {
        "id": "xorkKC9lxW1N",
        "colab_type": "text"
      },
      "source": [
        "## 분석용 라이브러리 다운로드 및 폰트 설정\n",
        "\n",
        "\n",
        "---\n",
        "\n",
        "\n",
        "\n",
        "\n",
        "\n"
      ]
    },
    {
      "cell_type": "code",
      "metadata": {
        "id": "P_ZhM81IxF9a",
        "colab_type": "code",
        "colab": {
          "base_uri": "https://localhost:8080/",
          "height": 406
        },
        "outputId": "21232ea2-207b-4608-f4da-83d8456aa9f7"
      },
      "source": [
        "# 분석용 라이브러리\n",
        "import pandas as pd\n",
        "import plotly.io as pio\n",
        "pio.renderers.default = 'notebook_connected'\n",
        "import numpy as np\n",
        "import plotly.express as px\n",
        "import matplotlib.dates as mdates\n",
        "import datetime\n",
        "import matplotlib.pyplot as plt\n",
        "import matplotlib.patches as mpatches\n",
        "import seaborn as sns\n",
        "import urllib, json\n",
        "import folium\n",
        "import warnings\n",
        "import matplotlib.ticker as ticker\n",
        "from plotly.subplots import make_subplots\n",
        "import plotly.graph_objects as go\n",
        "\n",
        "\n",
        "%matplotlib inline \n",
        "plt.style.use('fivethirtyeight')\n",
        "warnings.filterwarnings(\"ignore\")\n",
        "\n",
        "# 그래프 한글폰트 사용설정 in Colab\n",
        "import matplotlib as mpl\n",
        "import matplotlib.pyplot as plt\n",
        "import matplotlib.font_manager as fm\n",
        "%config InlineBackend.figure_format = 'retina'\n",
        " \n",
        "!apt -qq -y install fonts-nanum\n",
        " \n",
        "fontpath = '/usr/share/fonts/truetype/nanum/NanumBarunGothic.ttf'\n",
        "font = fm.FontProperties(fname=fontpath, size=9)\n",
        "plt.rc('font', family='NanumBarunGothic') \n",
        "mpl.font_manager._rebuild()\n",
        "## Test\n",
        "plt.figure(figsize=(3,3))\n",
        "plt.text(0.5, 0.5, '마이크 테스트', size=15)\n",
        "plt.show()"
      ],
      "execution_count": null,
      "outputs": [
        {
          "output_type": "stream",
          "text": [
            "/usr/local/lib/python3.6/dist-packages/statsmodels/tools/_testing.py:19: FutureWarning:\n",
            "\n",
            "pandas.util.testing is deprecated. Use the functions in the public API at pandas.testing instead.\n",
            "\n"
          ],
          "name": "stderr"
        },
        {
          "output_type": "stream",
          "text": [
            "fonts-nanum is already the newest version (20170925-1).\n",
            "The following package was automatically installed and is no longer required:\n",
            "  libnvidia-common-440\n",
            "Use 'apt autoremove' to remove it.\n",
            "0 upgraded, 0 newly installed, 0 to remove and 35 not upgraded.\n"
          ],
          "name": "stdout"
        },
        {
          "output_type": "display_data",
          "data": {
            "image/png": "[encoded data removed]",
            "text/plain": [
              "<Figure size 216x216 with 1 Axes>"
            ]
          },
          "metadata": {
            "tags": [],
            "image/png": {
              "width": 240,
              "height": 213
            }
          }
        }
      ]
    },
    {
      "cell_type": "code",
      "metadata": {
        "id": "Sq0aX8OOps4M",
        "colab_type": "code",
        "colab": {}
      },
      "source": [
        "#데이터 파일 불러오기\n",
        "index_filename = '/content/data/KT_data_20200717/index.csv'\n",
        "time_filename = '/content/data/KT_data_20200717/COVID_19/Time.csv'\n",
        "card_filename = '/content/data/KT_data_20200717/card_20200717.csv'\n",
        "adstrd_filename = '/content/data/KT_data_20200717/adstrd_master.csv'\n",
        "covid_case_filename=\"/content/data/KT_data_20200717/COVID_19/Case.csv\"\n",
        "time_province_filename=\"/content/data/KT_data_20200717/COVID_19/TimeProvince.csv\"\n",
        "covid_patient_filename=\"/content/data/KT_data_20200717/COVID_19/PatientInfo_20200717.csv\"\n",
        "fpop_df_filename = '/content/data/KT_data_20200717/fpopl.csv'\n",
        "delivery_filename = \"/content/data/KT_data_20200717/delivery.csv\"\n",
        "\n",
        "\n",
        "\n",
        "time = pd.read_csv(time_filename)\n",
        "index = pd.read_csv(index_filename)\n",
        "card = pd.read_csv(card_filename)\n",
        "adstrd = pd.read_csv(adstrd_filename)\n",
        "covid_case=pd.read_csv(covid_case_filename)\n",
        "time_province=pd.read_csv(time_province_filename)\n",
        "covid_patient=pd.read_csv(covid_patient_filename)\n",
        "fpop_df = pd.read_csv(fpop_df_filename)\n",
        "delivery = pd.read_csv(delivery_filename)"
      ],
      "execution_count": null,
      "outputs": []
    }
  ]
}
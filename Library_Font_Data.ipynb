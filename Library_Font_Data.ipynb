## 분석용 라이브러리 다운로드 및 폰트 설정


---







# 분석용 라이브러리
import pandas as pd
import plotly.io as pio
pio.renderers.default = 'notebook_connected'
import numpy as np
import plotly.express as px
import matplotlib.dates as mdates
import datetime
import matplotlib.pyplot as plt
import matplotlib.patches as mpatches
import seaborn as sns
import urllib, json
import folium
import warnings
import matplotlib.ticker as ticker
from plotly.subplots import make_subplots
import plotly.graph_objects as go


%matplotlib inline 
plt.style.use('fivethirtyeight')
warnings.filterwarnings("ignore")

# 그래프 한글폰트 사용설정 in Colab
import matplotlib as mpl
import matplotlib.pyplot as plt
import matplotlib.font_manager as fm
%config InlineBackend.figure_format = 'retina'
 
!apt -qq -y install fonts-nanum
 
fontpath = '/usr/share/fonts/truetype/nanum/NanumBarunGothic.ttf'
font = fm.FontProperties(fname=fontpath, size=9)
plt.rc('font', family='NanumBarunGothic') 
mpl.font_manager._rebuild()
## Test
plt.figure(figsize=(3,3))
plt.text(0.5, 0.5, '마이크 테스트', size=15)
plt.show()

#데이터 파일 불러오기
index_filename = '/content/data/KT_data_20200717/index.csv'
time_filename = '/content/data/KT_data_20200717/COVID_19/Time.csv'
card_filename = '/content/data/KT_data_20200717/card_20200717.csv'
adstrd_filename = '/content/data/KT_data_20200717/adstrd_master.csv'
covid_case_filename="/content/data/KT_data_20200717/COVID_19/Case.csv"
time_province_filename="/content/data/KT_data_20200717/COVID_19/TimeProvince.csv"
covid_patient_filename="/content/data/KT_data_20200717/COVID_19/PatientInfo_20200717.csv"
fpop_df_filename = '/content/data/KT_data_20200717/fpopl.csv'
delivery_filename = "/content/data/KT_data_20200717/delivery.csv"



time = pd.read_csv(time_filename)
index = pd.read_csv(index_filename)
card = pd.read_csv(card_filename)
adstrd = pd.read_csv(adstrd_filename)
covid_case=pd.read_csv(covid_case_filename)
time_province=pd.read_csv(time_province_filename)
covid_patient=pd.read_csv(covid_patient_filename)
fpop_df = pd.read_csv(fpop_df_filename)
delivery = pd.read_csv(delivery_filename)

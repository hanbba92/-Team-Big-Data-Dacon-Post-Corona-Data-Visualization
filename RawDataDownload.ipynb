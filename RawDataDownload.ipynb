{
  "nbformat": 4,
  "nbformat_minor": 0,
  "metadata": {
    "colab": {
      "name": "RawDataDownload.ipynb",
      "provenance": []
    },
    "kernelspec": {
      "name": "python3",
      "display_name": "Python 3"
    }
  },
  "cells": [
    {
      "cell_type": "markdown",
      "metadata": {
        "id": "v0QEzHVxqWyA",
        "colab_type": "text"
      },
      "source": [
        "## 데이터 다운로드\n",
        "\n",
        "---\n",
        "\n"
      ]
    },
    {
      "cell_type": "code",
      "metadata": {
        "id": "d9Er-UH-_q-r",
        "colab_type": "code",
        "colab": {
          "base_uri": "https://localhost:8080/",
          "height": 150,
          "referenced_widgets": [
            "3280821c13bc44d49c055dc0dc51ab21",
            "78202eb03ca54293b0856239f05a2d19",
            "1236c6641c764399ad2232fc7deb2f11",
            "d79c7eb5879743c1b8e8422ffe0ba458",
            "8c169438b40a4ee2a24eeb571f7863d8",
            "01f4238144fa4736a7826e52e111292f",
            "85fd4c648bd949408846c1d28fe6c6a3",
            "1eebb5a2564847a58d4ab7691ecec155",
            "4e2ad8d0f5cb4ee3ad3f908ec3965503",
            "888aa0a13b2a41a0a48cf515a1e41c7d",
            "1bcd9c84ac2c4a66ad25f7d120c5d3ea",
            "c697698aecc040b58265e7859347f114",
            "4c6fc745fcb748b2b0fe953963e55b42",
            "a345d981ebfc47609e0a3ba51f1baf34",
            "946daecd4460476bb0a69c50b43e648b",
            "25e6fd3d20e942759614e747ceffd43b"
          ]
        },
        "outputId": "e067c374-d3b8-4039-8c36-8a01abf09196"
      },
      "source": [
        "import requests\n",
        "import os\n",
        "import os.path as pth\n",
        "\n",
        "from multiprocessing import Pool\n",
        "from functools import partial\n",
        "\n",
        "from tqdm.notebook import tqdm\n",
        "\n",
        "import zipfile\n",
        "\n",
        "def download_file_from_google_drive(id_, destination):\n",
        "    URL = \"https://docs.google.com/uc?export=download\"\n",
        "\n",
        "    session = requests.Session()\n",
        "    response = session.get(URL, params = { 'id' : id_ }, stream = True)\n",
        "    token = get_confirm_token(response)\n",
        "    if token:\n",
        "        params = { 'id' : id_, 'confirm' : token }\n",
        "        response = session.get(URL, params = params, stream = True)\n",
        "        \n",
        "    basename = response.headers['Content-Disposition'].split(';')[1].split('filename=')[1].replace('\\\"', '')\n",
        "    full_dst_filenname = pth.join(destination, basename)\n",
        "    save_response_content(response, full_dst_filenname)\n",
        "    return full_dst_filenname\n",
        "\n",
        "def get_confirm_token(response):\n",
        "    for key, value in response.cookies.items():\n",
        "        if key.startswith('download_warning'):\n",
        "            return value\n",
        "\n",
        "    return None\n",
        "\n",
        "def save_response_content(response, destination):\n",
        "    CHUNK_SIZE = 32768\n",
        "    with open(destination, \"wb\") as f:\n",
        "        for chunk in response.iter_content(CHUNK_SIZE):\n",
        "            if chunk: # filter out keep-alive new chunks\n",
        "                f.write(chunk)\n",
        "\n",
        "file_id_list = [\n",
        "    '1emS3CMUyd4EGLL6BGVzIAzjIYy6EO0QJ',\n",
        "]\n",
        "\n",
        "destination = 'data' ### YOUR_DOWNLOAD_PATH\n",
        "os.makedirs(destination, exist_ok=True)\n",
        "\n",
        "filename_list = []\n",
        "\n",
        "### If you want to download more faster\n",
        "download_func = partial(download_file_from_google_drive, destination=destination)\n",
        "with Pool(4) as pool:\n",
        "    for i, filename in tqdm(enumerate(pool.imap_unordered(download_func, file_id_list)), total=len(file_id_list)):\n",
        "        print('{} is done!'.format(filename))\n",
        "        filename_list.append(filename)\n",
        "\n",
        "\n",
        "\n",
        "zip_filename_list = [filename for filename in filename_list if filename.endswith('.zip')]\n",
        "    \n",
        "for zip_filename in tqdm(zip_filename_list):\n",
        "    with zipfile.ZipFile(zip_filename) as target_zip:\n",
        "        dest_path = pth.splitext(zip_filename)[0]\n",
        "        os.makedirs(dest_path, exist_ok=True)\n",
        "        target_zip.extractall(dest_path)\n",
        "        print('{} is done!'.format(dest_path))"
      ],
      "execution_count": null,
      "outputs": [
        {
          "output_type": "display_data",
          "data": {
            "application/vnd.jupyter.widget-view+json": {
              "model_id": "3280821c13bc44d49c055dc0dc51ab21",
              "version_minor": 0,
              "version_major": 2
            },
            "text/plain": [
              "HBox(children=(FloatProgress(value=0.0, max=1.0), HTML(value='')))"
            ]
          },
          "metadata": {
            "tags": []
          }
        },
        {
          "output_type": "stream",
          "text": [
            "data/KT_data_20200717.zip is done!\n",
            "\n"
          ],
          "name": "stdout"
        },
        {
          "output_type": "display_data",
          "data": {
            "application/vnd.jupyter.widget-view+json": {
              "model_id": "4e2ad8d0f5cb4ee3ad3f908ec3965503",
              "version_minor": 0,
              "version_major": 2
            },
            "text/plain": [
              "HBox(children=(FloatProgress(value=0.0, max=1.0), HTML(value='')))"
            ]
          },
          "metadata": {
            "tags": []
          }
        },
        {
          "output_type": "stream",
          "text": [
            "data/KT_data_20200717 is done!\n",
            "\n"
          ],
          "name": "stdout"
        }
      ]
    }
  ]
}